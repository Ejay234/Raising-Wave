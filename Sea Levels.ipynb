{
 "cells": [
  {
   "cell_type": "code",
   "execution_count": 1,
   "id": "3a1289b7",
   "metadata": {},
   "outputs": [],
   "source": [
    "import pandas as pd\n",
    "import numpy as np"
   ]
  },
  {
   "cell_type": "code",
   "execution_count": 2,
   "id": "e3a01558",
   "metadata": {},
   "outputs": [],
   "source": [
    "df = pd.read_csv('sealevel.csv')"
   ]
  },
  {
   "cell_type": "markdown",
   "id": "db1c0606",
   "metadata": {},
   "source": [
    "# Data Descriptions"
   ]
  },
  {
   "cell_type": "code",
   "execution_count": 3,
   "id": "66efa487",
   "metadata": {},
   "outputs": [
    {
     "data": {
      "text/html": [
       "<div>\n",
       "<style scoped>\n",
       "    .dataframe tbody tr th:only-of-type {\n",
       "        vertical-align: middle;\n",
       "    }\n",
       "\n",
       "    .dataframe tbody tr th {\n",
       "        vertical-align: top;\n",
       "    }\n",
       "\n",
       "    .dataframe thead th {\n",
       "        text-align: right;\n",
       "    }\n",
       "</style>\n",
       "<table border=\"1\" class=\"dataframe\">\n",
       "  <thead>\n",
       "    <tr style=\"text-align: right;\">\n",
       "      <th></th>\n",
       "      <th>Year</th>\n",
       "      <th>TotalWeightedObservations</th>\n",
       "      <th>GMSL_noGIA</th>\n",
       "      <th>StdDevGMSL_noGIA</th>\n",
       "      <th>SmoothedGSML_noGIA</th>\n",
       "      <th>GMSL_GIA</th>\n",
       "      <th>StdDevGMSL_GIA</th>\n",
       "      <th>SmoothedGSML_GIA</th>\n",
       "      <th>SmoothedGSML_GIA_sigremoved</th>\n",
       "    </tr>\n",
       "  </thead>\n",
       "  <tbody>\n",
       "    <tr>\n",
       "      <th>0</th>\n",
       "      <td>1993</td>\n",
       "      <td>327401.31</td>\n",
       "      <td>-38.59</td>\n",
       "      <td>89.86</td>\n",
       "      <td>-38.76</td>\n",
       "      <td>-38.59</td>\n",
       "      <td>89.86</td>\n",
       "      <td>-38.75</td>\n",
       "      <td>-38.57</td>\n",
       "    </tr>\n",
       "    <tr>\n",
       "      <th>1</th>\n",
       "      <td>1993</td>\n",
       "      <td>324498.41</td>\n",
       "      <td>-41.97</td>\n",
       "      <td>90.86</td>\n",
       "      <td>-39.78</td>\n",
       "      <td>-41.97</td>\n",
       "      <td>90.86</td>\n",
       "      <td>-39.77</td>\n",
       "      <td>-39.11</td>\n",
       "    </tr>\n",
       "    <tr>\n",
       "      <th>2</th>\n",
       "      <td>1993</td>\n",
       "      <td>333018.19</td>\n",
       "      <td>-41.93</td>\n",
       "      <td>87.27</td>\n",
       "      <td>-39.62</td>\n",
       "      <td>-41.91</td>\n",
       "      <td>87.27</td>\n",
       "      <td>-39.61</td>\n",
       "      <td>-38.58</td>\n",
       "    </tr>\n",
       "    <tr>\n",
       "      <th>3</th>\n",
       "      <td>1993</td>\n",
       "      <td>297483.19</td>\n",
       "      <td>-42.67</td>\n",
       "      <td>90.75</td>\n",
       "      <td>-39.67</td>\n",
       "      <td>-42.65</td>\n",
       "      <td>90.74</td>\n",
       "      <td>-39.64</td>\n",
       "      <td>-38.34</td>\n",
       "    </tr>\n",
       "    <tr>\n",
       "      <th>4</th>\n",
       "      <td>1993</td>\n",
       "      <td>321635.81</td>\n",
       "      <td>-37.86</td>\n",
       "      <td>90.26</td>\n",
       "      <td>-38.75</td>\n",
       "      <td>-37.83</td>\n",
       "      <td>90.25</td>\n",
       "      <td>-38.72</td>\n",
       "      <td>-37.21</td>\n",
       "    </tr>\n",
       "  </tbody>\n",
       "</table>\n",
       "</div>"
      ],
      "text/plain": [
       "   Year  TotalWeightedObservations  GMSL_noGIA  StdDevGMSL_noGIA  \\\n",
       "0  1993                  327401.31      -38.59             89.86   \n",
       "1  1993                  324498.41      -41.97             90.86   \n",
       "2  1993                  333018.19      -41.93             87.27   \n",
       "3  1993                  297483.19      -42.67             90.75   \n",
       "4  1993                  321635.81      -37.86             90.26   \n",
       "\n",
       "   SmoothedGSML_noGIA  GMSL_GIA  StdDevGMSL_GIA  SmoothedGSML_GIA  \\\n",
       "0              -38.76    -38.59           89.86            -38.75   \n",
       "1              -39.78    -41.97           90.86            -39.77   \n",
       "2              -39.62    -41.91           87.27            -39.61   \n",
       "3              -39.67    -42.65           90.74            -39.64   \n",
       "4              -38.75    -37.83           90.25            -38.72   \n",
       "\n",
       "   SmoothedGSML_GIA_sigremoved  \n",
       "0                       -38.57  \n",
       "1                       -39.11  \n",
       "2                       -38.58  \n",
       "3                       -38.34  \n",
       "4                       -37.21  "
      ]
     },
     "execution_count": 3,
     "metadata": {},
     "output_type": "execute_result"
    }
   ],
   "source": [
    "df.head()"
   ]
  },
  {
   "cell_type": "code",
   "execution_count": 42,
   "id": "fbdf7bed",
   "metadata": {},
   "outputs": [
    {
     "name": "stdout",
     "output_type": "stream",
     "text": [
      "      Year  TotalWeightedObservations  GMSL_noGIA  StdDevGMSL_noGIA  \\\n",
      "1047  2021                  335065.19       50.07             82.04   \n",
      "\n",
      "      SmoothedGSML_noGIA  GMSL_GIA  StdDevGMSL_GIA  SmoothedGSML_GIA  \\\n",
      "1047               49.51     57.01            82.1             56.43   \n",
      "\n",
      "      SmoothedGSML_GIA_sigremoved  \n",
      "1047                        59.98  \n"
     ]
    }
   ],
   "source": [
    "#for i in range(len(df['TotalWeightedObservations'])):\n",
    "print(df[-1:])\n",
    "    "
   ]
  },
  {
   "cell_type": "code",
   "execution_count": null,
   "id": "59ff4f42",
   "metadata": {},
   "outputs": [],
   "source": [
    "df['Year'].describe()"
   ]
  },
  {
   "cell_type": "code",
   "execution_count": null,
   "id": "bfc2254a",
   "metadata": {},
   "outputs": [],
   "source": [
    "df['TotalWeightedObservations'].describe()"
   ]
  },
  {
   "cell_type": "code",
   "execution_count": null,
   "id": "0ecb5a0d",
   "metadata": {},
   "outputs": [],
   "source": [
    "df['GMSL_noGIA'].describe()"
   ]
  },
  {
   "cell_type": "code",
   "execution_count": null,
   "id": "401ad2e4",
   "metadata": {},
   "outputs": [],
   "source": [
    "df['StdDevGMSL_noGIA'].describe()"
   ]
  },
  {
   "cell_type": "code",
   "execution_count": null,
   "id": "9f78c263",
   "metadata": {},
   "outputs": [],
   "source": [
    "df['SmoothedGSML_noGIA'].describe()"
   ]
  },
  {
   "cell_type": "code",
   "execution_count": null,
   "id": "b4e7bdbc",
   "metadata": {},
   "outputs": [],
   "source": [
    "df['GMSL_GIA'].describe()"
   ]
  },
  {
   "cell_type": "code",
   "execution_count": null,
   "id": "0e0aac69",
   "metadata": {},
   "outputs": [],
   "source": [
    "df['StdDevGMSL_GIA'].describe()"
   ]
  },
  {
   "cell_type": "code",
   "execution_count": null,
   "id": "359b71fd",
   "metadata": {},
   "outputs": [],
   "source": [
    "df['SmoothedGSML_GIA'].describe()"
   ]
  },
  {
   "cell_type": "code",
   "execution_count": null,
   "id": "57a45955",
   "metadata": {},
   "outputs": [],
   "source": [
    "df['SmoothedGSML_GIA_sigremoved'].describe()"
   ]
  },
  {
   "cell_type": "code",
   "execution_count": null,
   "id": "aa7720d4",
   "metadata": {},
   "outputs": [],
   "source": [
    "df.isna().any()"
   ]
  },
  {
   "cell_type": "code",
   "execution_count": 4,
   "id": "7277d271",
   "metadata": {
    "scrolled": true
   },
   "outputs": [
    {
     "data": {
      "text/html": [
       "<div>\n",
       "<style scoped>\n",
       "    .dataframe tbody tr th:only-of-type {\n",
       "        vertical-align: middle;\n",
       "    }\n",
       "\n",
       "    .dataframe tbody tr th {\n",
       "        vertical-align: top;\n",
       "    }\n",
       "\n",
       "    .dataframe thead th {\n",
       "        text-align: right;\n",
       "    }\n",
       "</style>\n",
       "<table border=\"1\" class=\"dataframe\">\n",
       "  <thead>\n",
       "    <tr style=\"text-align: right;\">\n",
       "      <th></th>\n",
       "      <th>Year</th>\n",
       "      <th>TotalWeightedObservations</th>\n",
       "      <th>GMSL_noGIA</th>\n",
       "      <th>StdDevGMSL_noGIA</th>\n",
       "      <th>SmoothedGSML_noGIA</th>\n",
       "      <th>GMSL_GIA</th>\n",
       "      <th>StdDevGMSL_GIA</th>\n",
       "      <th>SmoothedGSML_GIA</th>\n",
       "      <th>SmoothedGSML_GIA_sigremoved</th>\n",
       "    </tr>\n",
       "  </thead>\n",
       "  <tbody>\n",
       "    <tr>\n",
       "      <th>Year</th>\n",
       "      <td>1.000000</td>\n",
       "      <td>0.112046</td>\n",
       "      <td>0.973540</td>\n",
       "      <td>-0.070679</td>\n",
       "      <td>0.977533</td>\n",
       "      <td>0.976852</td>\n",
       "      <td>-0.060535</td>\n",
       "      <td>0.980334</td>\n",
       "      <td>0.988559</td>\n",
       "    </tr>\n",
       "    <tr>\n",
       "      <th>TotalWeightedObservations</th>\n",
       "      <td>0.112046</td>\n",
       "      <td>1.000000</td>\n",
       "      <td>0.105798</td>\n",
       "      <td>-0.068306</td>\n",
       "      <td>0.095348</td>\n",
       "      <td>0.106026</td>\n",
       "      <td>-0.066844</td>\n",
       "      <td>0.096581</td>\n",
       "      <td>0.103752</td>\n",
       "    </tr>\n",
       "    <tr>\n",
       "      <th>GMSL_noGIA</th>\n",
       "      <td>0.973540</td>\n",
       "      <td>0.105798</td>\n",
       "      <td>1.000000</td>\n",
       "      <td>0.010104</td>\n",
       "      <td>0.997637</td>\n",
       "      <td>0.999885</td>\n",
       "      <td>0.024521</td>\n",
       "      <td>0.997436</td>\n",
       "      <td>0.989584</td>\n",
       "    </tr>\n",
       "    <tr>\n",
       "      <th>StdDevGMSL_noGIA</th>\n",
       "      <td>-0.070679</td>\n",
       "      <td>-0.068306</td>\n",
       "      <td>0.010104</td>\n",
       "      <td>1.000000</td>\n",
       "      <td>0.005072</td>\n",
       "      <td>0.004601</td>\n",
       "      <td>0.999292</td>\n",
       "      <td>-0.000095</td>\n",
       "      <td>-0.026495</td>\n",
       "    </tr>\n",
       "    <tr>\n",
       "      <th>SmoothedGSML_noGIA</th>\n",
       "      <td>0.977533</td>\n",
       "      <td>0.095348</td>\n",
       "      <td>0.997637</td>\n",
       "      <td>0.005072</td>\n",
       "      <td>1.000000</td>\n",
       "      <td>0.997968</td>\n",
       "      <td>0.019448</td>\n",
       "      <td>0.999903</td>\n",
       "      <td>0.993049</td>\n",
       "    </tr>\n",
       "    <tr>\n",
       "      <th>GMSL_GIA</th>\n",
       "      <td>0.976852</td>\n",
       "      <td>0.106026</td>\n",
       "      <td>0.999885</td>\n",
       "      <td>0.004601</td>\n",
       "      <td>0.997968</td>\n",
       "      <td>1.000000</td>\n",
       "      <td>0.018790</td>\n",
       "      <td>0.997966</td>\n",
       "      <td>0.991053</td>\n",
       "    </tr>\n",
       "    <tr>\n",
       "      <th>StdDevGMSL_GIA</th>\n",
       "      <td>-0.060535</td>\n",
       "      <td>-0.066844</td>\n",
       "      <td>0.024521</td>\n",
       "      <td>0.999292</td>\n",
       "      <td>0.019448</td>\n",
       "      <td>0.018790</td>\n",
       "      <td>1.000000</td>\n",
       "      <td>0.014049</td>\n",
       "      <td>-0.014760</td>\n",
       "    </tr>\n",
       "    <tr>\n",
       "      <th>SmoothedGSML_GIA</th>\n",
       "      <td>0.980334</td>\n",
       "      <td>0.096581</td>\n",
       "      <td>0.997436</td>\n",
       "      <td>-0.000095</td>\n",
       "      <td>0.999903</td>\n",
       "      <td>0.997966</td>\n",
       "      <td>0.014049</td>\n",
       "      <td>1.000000</td>\n",
       "      <td>0.994026</td>\n",
       "    </tr>\n",
       "    <tr>\n",
       "      <th>SmoothedGSML_GIA_sigremoved</th>\n",
       "      <td>0.988559</td>\n",
       "      <td>0.103752</td>\n",
       "      <td>0.989584</td>\n",
       "      <td>-0.026495</td>\n",
       "      <td>0.993049</td>\n",
       "      <td>0.991053</td>\n",
       "      <td>-0.014760</td>\n",
       "      <td>0.994026</td>\n",
       "      <td>1.000000</td>\n",
       "    </tr>\n",
       "  </tbody>\n",
       "</table>\n",
       "</div>"
      ],
      "text/plain": [
       "                                 Year  TotalWeightedObservations  GMSL_noGIA  \\\n",
       "Year                         1.000000                   0.112046    0.973540   \n",
       "TotalWeightedObservations    0.112046                   1.000000    0.105798   \n",
       "GMSL_noGIA                   0.973540                   0.105798    1.000000   \n",
       "StdDevGMSL_noGIA            -0.070679                  -0.068306    0.010104   \n",
       "SmoothedGSML_noGIA           0.977533                   0.095348    0.997637   \n",
       "GMSL_GIA                     0.976852                   0.106026    0.999885   \n",
       "StdDevGMSL_GIA              -0.060535                  -0.066844    0.024521   \n",
       "SmoothedGSML_GIA             0.980334                   0.096581    0.997436   \n",
       "SmoothedGSML_GIA_sigremoved  0.988559                   0.103752    0.989584   \n",
       "\n",
       "                             StdDevGMSL_noGIA  SmoothedGSML_noGIA  GMSL_GIA  \\\n",
       "Year                                -0.070679            0.977533  0.976852   \n",
       "TotalWeightedObservations           -0.068306            0.095348  0.106026   \n",
       "GMSL_noGIA                           0.010104            0.997637  0.999885   \n",
       "StdDevGMSL_noGIA                     1.000000            0.005072  0.004601   \n",
       "SmoothedGSML_noGIA                   0.005072            1.000000  0.997968   \n",
       "GMSL_GIA                             0.004601            0.997968  1.000000   \n",
       "StdDevGMSL_GIA                       0.999292            0.019448  0.018790   \n",
       "SmoothedGSML_GIA                    -0.000095            0.999903  0.997966   \n",
       "SmoothedGSML_GIA_sigremoved         -0.026495            0.993049  0.991053   \n",
       "\n",
       "                             StdDevGMSL_GIA  SmoothedGSML_GIA  \\\n",
       "Year                              -0.060535          0.980334   \n",
       "TotalWeightedObservations         -0.066844          0.096581   \n",
       "GMSL_noGIA                         0.024521          0.997436   \n",
       "StdDevGMSL_noGIA                   0.999292         -0.000095   \n",
       "SmoothedGSML_noGIA                 0.019448          0.999903   \n",
       "GMSL_GIA                           0.018790          0.997966   \n",
       "StdDevGMSL_GIA                     1.000000          0.014049   \n",
       "SmoothedGSML_GIA                   0.014049          1.000000   \n",
       "SmoothedGSML_GIA_sigremoved       -0.014760          0.994026   \n",
       "\n",
       "                             SmoothedGSML_GIA_sigremoved  \n",
       "Year                                            0.988559  \n",
       "TotalWeightedObservations                       0.103752  \n",
       "GMSL_noGIA                                      0.989584  \n",
       "StdDevGMSL_noGIA                               -0.026495  \n",
       "SmoothedGSML_noGIA                              0.993049  \n",
       "GMSL_GIA                                        0.991053  \n",
       "StdDevGMSL_GIA                                 -0.014760  \n",
       "SmoothedGSML_GIA                                0.994026  \n",
       "SmoothedGSML_GIA_sigremoved                     1.000000  "
      ]
     },
     "execution_count": 4,
     "metadata": {},
     "output_type": "execute_result"
    }
   ],
   "source": [
    "df.corr()"
   ]
  },
  {
   "cell_type": "markdown",
   "id": "723e95e2",
   "metadata": {},
   "source": [
    "GMSL is the globally averaged sea level\n",
    "GIA is the global isostatic adjustment\n",
    "\n",
    "\n",
    "GMSL_noGIA - \n",
    "    (Global Isostatic Adjustment (GIA) not applied) variation (mm) with respect to 20-year TOPEX/Jason collinear mean reference\n",
    "    \n",
    "SmoothedGSML_noGIA - \n",
    "    Smoothed (60-day Gaussian type filter) GMSL (GIA not applied) variation (mm)\n",
    "    \n",
    "GMSL_GIA - \n",
    "    (Global Isostatic Adjustment (GIA) applied) variation (mm) with respect to 20-year TOPEX/Jason collinear mean reference\n",
    "    \n",
    "SmoothedGSML_GIA - \n",
    "    Smoothed (60-day Gaussian type filter) GMSL (GIA applied) variation (mm)\n",
    "\n",
    "SmoothedGSML_GIA_sigremoved - \n",
    "    Smoothed (60-day Gaussian type filter) GMSL (GIA applied) variation (mm); annual and semi-annual signal removed\n"
   ]
  },
  {
   "cell_type": "code",
   "execution_count": 5,
   "id": "eda6b669",
   "metadata": {},
   "outputs": [],
   "source": [
    "from matplotlib import pyplot as plt"
   ]
  },
  {
   "cell_type": "code",
   "execution_count": 6,
   "id": "e53fa674",
   "metadata": {},
   "outputs": [
    {
     "data": {
      "image/png": "[encoded data removed]",
      "text/plain": [
       "<Figure size 432x288 with 1 Axes>"
      ]
     },
     "metadata": {
      "needs_background": "light"
     },
     "output_type": "display_data"
    }
   ],
   "source": [
    "plt.scatter(df['Year'], df['SmoothedGSML_GIA'], alpha=0.4)\n",
    "plt.xlabel(\"idk\")\n",
    "plt.ylabel(\"SmoothedGSML_GIA\")\n",
    "plt.show()"
   ]
  },
  {
   "cell_type": "code",
   "execution_count": null,
   "id": "c35d02c2",
   "metadata": {},
   "outputs": [],
   "source": [
    "plt.scatter(df['SmoothedGSML_noGIA'], df['Year'], alpha=0.4)\n",
    "plt.xlabel(\"idk\")\n",
    "plt.ylabel(\"Year\")\n",
    "plt.show()"
   ]
  },
  {
   "cell_type": "code",
   "execution_count": null,
   "id": "2a408de5",
   "metadata": {},
   "outputs": [],
   "source": [
    "plt.scatter(df['GMSL_GIA'], df['Year'], alpha=0.4)\n",
    "plt.xlabel(\"idk\")\n",
    "plt.ylabel(\"Year\")\n",
    "plt.show()"
   ]
  },
  {
   "cell_type": "code",
   "execution_count": null,
   "id": "f9829821",
   "metadata": {},
   "outputs": [],
   "source": [
    "plt.scatter(df['SmoothedGSML_GIA'], df['Year'], alpha=0.4)\n",
    "plt.xlabel(\"idk\")\n",
    "plt.ylabel(\"Year\")\n",
    "plt.show()"
   ]
  },
  {
   "cell_type": "code",
   "execution_count": null,
   "id": "1a777ccf",
   "metadata": {},
   "outputs": [],
   "source": [
    "plt.scatter(df['SmoothedGSML_GIA_sigremoved'], df['Year'], alpha=0.4)\n",
    "plt.xlabel(\"idk\")\n",
    "plt.ylabel(\"Year\")\n",
    "plt.show()"
   ]
  },
  {
   "cell_type": "code",
   "execution_count": null,
   "id": "56618f42",
   "metadata": {},
   "outputs": [],
   "source": [
    "plt.scatter(df['StdDevGMSL_GIA'], df['Year'], alpha=0.4)\n",
    "plt.xlabel(\"idk\")\n",
    "plt.ylabel(\"Year\")\n",
    "plt.show()"
   ]
  },
  {
   "cell_type": "code",
   "execution_count": null,
   "id": "0409f38c",
   "metadata": {},
   "outputs": [],
   "source": [
    "GMSL_feats = df[['GMSL_noGIA', 'StdDevGMSL_noGIA', 'SmoothedGSML_noGIA']]"
   ]
  },
  {
   "cell_type": "code",
   "execution_count": null,
   "id": "f73229d0",
   "metadata": {},
   "outputs": [],
   "source": [
    "GIA_feats = df[['GMSL_GIA','StdDevGMSL_GIA', 'SmoothedGSML_GIA']]"
   ]
  },
  {
   "cell_type": "code",
   "execution_count": 90,
   "id": "8c027c0c",
   "metadata": {},
   "outputs": [],
   "source": [
    "all_feats = df[['GMSL_noGIA','StdDevGMSL_noGIA','GMSL_GIA','StdDevGMSL_GIA']]\n",
    "#print(all_feats)"
   ]
  },
  {
   "cell_type": "code",
   "execution_count": 7,
   "id": "baa69eba",
   "metadata": {},
   "outputs": [],
   "source": [
    "feats = df[['Year', 'SmoothedGSML_GIA_sigremoved']]"
   ]
  },
  {
   "cell_type": "code",
   "execution_count": 8,
   "id": "2ff6a7cf",
   "metadata": {},
   "outputs": [],
   "source": [
    "year = df[['Year']]"
   ]
  },
  {
   "cell_type": "code",
   "execution_count": null,
   "id": "c08d01aa",
   "metadata": {},
   "outputs": [],
   "source": [
    "years = np.array(['2022','2023','2024','2025','2026','2027','2028','2029','2030']).reshape(-1,1)"
   ]
  },
  {
   "cell_type": "code",
   "execution_count": 92,
   "id": "10c3405b",
   "metadata": {},
   "outputs": [],
   "source": [
    "from sklearn.model_selection import train_test_split\n",
    "\n",
    "#gmslx_train, gmslx_test, gmsly_train, gmsly_test = train_test_split(GMSL_feats, year, test_size=0.2, random_state=1)\n",
    "#giax_train, giax_test, giay_train, giay_test = train_test_split(GIA_feats, year, test_size=0.2, random_state=1)\n",
    "x_train, x_test, y_train, y_test = train_test_split(all_feats, year, test_size=0.2, random_state=1)"
   ]
  },
  {
   "cell_type": "code",
   "execution_count": 93,
   "id": "a472166b",
   "metadata": {},
   "outputs": [],
   "source": [
    "from sklearn.linear_model import LinearRegression\n",
    "\n",
    "model = LinearRegression()"
   ]
  },
  {
   "cell_type": "code",
   "execution_count": 94,
   "id": "659b9066",
   "metadata": {
    "scrolled": true
   },
   "outputs": [
    {
     "data": {
      "text/plain": [
       "LinearRegression()"
      ]
     },
     "execution_count": 94,
     "metadata": {},
     "output_type": "execute_result"
    }
   ],
   "source": [
    "model.fit(x_train, y_train)"
   ]
  },
  {
   "cell_type": "code",
   "execution_count": 95,
   "id": "f895c32e",
   "metadata": {},
   "outputs": [
    {
     "data": {
      "text/plain": [
       "array([[-4.13516011,  0.83329976,  4.13513586, -0.83302864]])"
      ]
     },
     "execution_count": 95,
     "metadata": {},
     "output_type": "execute_result"
    }
   ],
   "source": [
    "model.coef_"
   ]
  },
  {
   "cell_type": "code",
   "execution_count": 96,
   "id": "29d23abb",
   "metadata": {},
   "outputs": [
    {
     "data": {
      "text/plain": [
       "array([1992.42108533])"
      ]
     },
     "execution_count": 96,
     "metadata": {},
     "output_type": "execute_result"
    }
   ],
   "source": [
    "model.intercept_"
   ]
  },
  {
   "cell_type": "code",
   "execution_count": 97,
   "id": "8415ad28",
   "metadata": {},
   "outputs": [
    {
     "data": {
      "text/plain": [
       "0.9988970542334488"
      ]
     },
     "execution_count": 97,
     "metadata": {},
     "output_type": "execute_result"
    }
   ],
   "source": [
    "model.score(x_train, y_train)"
   ]
  },
  {
   "cell_type": "code",
   "execution_count": 99,
   "id": "ed610d13",
   "metadata": {},
   "outputs": [
    {
     "data": {
      "text/plain": [
       "0.9991459188598922"
      ]
     },
     "execution_count": 99,
     "metadata": {},
     "output_type": "execute_result"
    }
   ],
   "source": [
    "model.score(x_test, y_test)"
   ]
  },
  {
   "cell_type": "code",
   "execution_count": 100,
   "id": "731d40ea",
   "metadata": {
    "scrolled": true
   },
   "outputs": [],
   "source": [
    "y_predictions = model.predict(x_test)"
   ]
  },
  {
   "cell_type": "code",
   "execution_count": null,
   "id": "86bc87c3",
   "metadata": {},
   "outputs": [],
   "source": [
    "model.fit(giax_train, giay_train)"
   ]
  },
  {
   "cell_type": "code",
   "execution_count": null,
   "id": "2a9729e1",
   "metadata": {},
   "outputs": [],
   "source": [
    "model.coef_"
   ]
  },
  {
   "cell_type": "code",
   "execution_count": null,
   "id": "55a9f341",
   "metadata": {},
   "outputs": [],
   "source": [
    "model.intercept_"
   ]
  },
  {
   "cell_type": "code",
   "execution_count": null,
   "id": "856aff0c",
   "metadata": {},
   "outputs": [],
   "source": [
    "model.score(giax_test,giay_test)"
   ]
  },
  {
   "cell_type": "code",
   "execution_count": null,
   "id": "20b61f95",
   "metadata": {},
   "outputs": [],
   "source": [
    "giay_predictions = model.predict(giax_test)"
   ]
  },
  {
   "cell_type": "code",
   "execution_count": null,
   "id": "1a9e7111",
   "metadata": {},
   "outputs": [],
   "source": [
    "model.fit(gmslx_train, gmsly_train)"
   ]
  },
  {
   "cell_type": "code",
   "execution_count": null,
   "id": "8d8ccf5e",
   "metadata": {},
   "outputs": [],
   "source": [
    "model.coef_"
   ]
  },
  {
   "cell_type": "code",
   "execution_count": null,
   "id": "33cc9425",
   "metadata": {},
   "outputs": [],
   "source": [
    "model.intercept_"
   ]
  },
  {
   "cell_type": "code",
   "execution_count": null,
   "id": "e8ed96b6",
   "metadata": {},
   "outputs": [],
   "source": [
    "model.score(gmslx_test, gmsly_test)"
   ]
  },
  {
   "cell_type": "code",
   "execution_count": null,
   "id": "6b4ce892",
   "metadata": {},
   "outputs": [],
   "source": [
    "gmsly_predictions = model.predict(gmslx_test)"
   ]
  },
  {
   "cell_type": "markdown",
   "id": "f28c43ba",
   "metadata": {},
   "source": [
    "# Plots "
   ]
  },
  {
   "cell_type": "code",
   "execution_count": 101,
   "id": "5ddf25e6",
   "metadata": {
    "scrolled": true
   },
   "outputs": [
    {
     "data": {
      "text/plain": [
       "<matplotlib.collections.PathCollection at 0x7f84eb547160>"
      ]
     },
     "execution_count": 101,
     "metadata": {},
     "output_type": "execute_result"
    },
    {
     "data": {
      "image/png": "[encoded data removed]",
      "text/plain": [
       "<Figure size 432x288 with 1 Axes>"
      ]
     },
     "metadata": {
      "needs_background": "light"
     },
     "output_type": "display_data"
    }
   ],
   "source": [
    "plt.scatter(y_test, y_predictions)"
   ]
  },
  {
   "cell_type": "code",
   "execution_count": null,
   "id": "131e24c1",
   "metadata": {},
   "outputs": [],
   "source": []
  },
  {
   "cell_type": "code",
   "execution_count": null,
   "id": "4c386019",
   "metadata": {},
   "outputs": [],
   "source": [
    "plt.scatter(giay_test, giay_predictions)"
   ]
  },
  {
   "cell_type": "code",
   "execution_count": null,
   "id": "4bd36e88",
   "metadata": {},
   "outputs": [],
   "source": [
    "plt.scatter(gmsly_test, gmsly_predictions)"
   ]
  },
  {
   "cell_type": "code",
   "execution_count": 102,
   "id": "606e1893",
   "metadata": {},
   "outputs": [
    {
     "name": "stdout",
     "output_type": "stream",
     "text": [
      "[[1993.38777235]\n",
      " [2016.32623825]\n",
      " [2009.05723539]\n",
      " [1996.09096557]\n",
      " [2000.10216147]\n",
      " [1994.7690438 ]\n",
      " [1997.9477683 ]\n",
      " [2000.77341599]\n",
      " [2000.60673284]\n",
      " [2021.34123085]\n",
      " [2020.10865787]\n",
      " [2015.75193167]\n",
      " [1995.19046672]\n",
      " [1998.57478532]\n",
      " [1995.10736356]\n",
      " [2020.84529976]\n",
      " [2000.95626411]\n",
      " [2009.1483083 ]\n",
      " [1997.7830573 ]\n",
      " [2014.04217434]\n",
      " [2013.11054525]\n",
      " [1993.56881606]\n",
      " [2012.20751685]\n",
      " [2015.96169147]\n",
      " [2001.99550401]\n",
      " [2000.97089531]\n",
      " [2010.07541377]\n",
      " [1997.64352603]\n",
      " [2009.43925448]\n",
      " [2010.1515564 ]\n",
      " [1993.81708677]\n",
      " [2008.00762458]\n",
      " [2008.03178374]\n",
      " [2001.09382629]\n",
      " [2005.76065348]\n",
      " [2013.2573219 ]\n",
      " [1993.22261098]\n",
      " [2002.09640991]\n",
      " [2020.3877883 ]\n",
      " [2000.01210286]\n",
      " [2004.19573947]\n",
      " [1996.43950486]\n",
      " [2016.01623909]\n",
      " [1992.65277673]\n",
      " [1999.05193194]\n",
      " [2007.17204069]\n",
      " [1994.64808537]\n",
      " [1994.08324088]\n",
      " [1997.99693015]\n",
      " [2001.31680124]\n",
      " [1997.71723349]\n",
      " [2019.98931956]\n",
      " [2017.05615953]\n",
      " [2008.51303187]\n",
      " [2004.36145131]\n",
      " [2006.05154168]\n",
      " [2013.79428271]\n",
      " [2017.86515319]\n",
      " [1996.71387856]\n",
      " [2008.16120832]\n",
      " [2020.07507298]\n",
      " [2013.14680758]\n",
      " [2013.09998467]\n",
      " [2006.14757372]\n",
      " [2014.94062406]\n",
      " [2005.0324584 ]\n",
      " [1996.763118  ]\n",
      " [1994.56328168]\n",
      " [2017.84737623]\n",
      " [1995.72889189]\n",
      " [2012.74728755]\n",
      " [2018.50260936]\n",
      " [2008.15264359]\n",
      " [1997.78318671]\n",
      " [2013.81101519]\n",
      " [1993.39601283]\n",
      " [1995.28065912]\n",
      " [2016.04879279]\n",
      " [2007.1304007 ]\n",
      " [2014.86384752]\n",
      " [2011.07236515]\n",
      " [2009.12684733]\n",
      " [2009.08196011]\n",
      " [2020.21377259]\n",
      " [1995.04895636]\n",
      " [1995.37139716]\n",
      " [2005.59409717]\n",
      " [2016.06931382]\n",
      " [2013.88829198]\n",
      " [2014.88247842]\n",
      " [1995.76995996]\n",
      " [2020.35430332]\n",
      " [2013.18488161]\n",
      " [2006.61104612]\n",
      " [2006.83704204]\n",
      " [2018.06678135]\n",
      " [2008.20571811]\n",
      " [2018.71374525]\n",
      " [1992.94077502]\n",
      " [1992.93278143]\n",
      " [2015.21372739]\n",
      " [1999.31806673]\n",
      " [2007.38708321]\n",
      " [2008.94199633]\n",
      " [1996.94577433]\n",
      " [1994.19153015]\n",
      " [2001.98001097]\n",
      " [1996.14968981]\n",
      " [2011.09167791]\n",
      " [2016.99779444]\n",
      " [1993.78457781]\n",
      " [2008.20595775]\n",
      " [2019.23996062]\n",
      " [2013.79398305]\n",
      " [2013.83033826]\n",
      " [1999.91682632]\n",
      " [1997.18271381]\n",
      " [2005.9738443 ]\n",
      " [2017.7002468 ]\n",
      " [2004.72637645]\n",
      " [1998.99434692]\n",
      " [1994.8838524 ]\n",
      " [1998.06999368]\n",
      " [2013.86511197]\n",
      " [2016.03767178]\n",
      " [2019.62818721]\n",
      " [2018.13182531]\n",
      " [2002.3857785 ]\n",
      " [1997.49640246]\n",
      " [2007.78710866]\n",
      " [2010.51603152]\n",
      " [2008.09041159]\n",
      " [1994.03300626]\n",
      " [1992.82588904]\n",
      " [2014.24258382]\n",
      " [2012.00073581]\n",
      " [2013.17535124]\n",
      " [2016.71605231]\n",
      " [2004.2290822 ]\n",
      " [2005.86055892]\n",
      " [1994.94160972]\n",
      " [1997.341127  ]\n",
      " [2011.17077711]\n",
      " [2018.79854607]\n",
      " [2018.02889162]\n",
      " [2005.56032672]\n",
      " [2004.08831441]\n",
      " [2013.2084948 ]\n",
      " [1992.53775695]\n",
      " [2008.09222947]\n",
      " [1999.45680497]\n",
      " [2018.87260099]\n",
      " [2012.95568946]\n",
      " [2011.91865183]\n",
      " [1999.1770647 ]\n",
      " [1998.79791811]\n",
      " [2012.12074561]\n",
      " [2018.93118418]\n",
      " [2005.64345876]\n",
      " [1992.52846523]\n",
      " [2013.72347993]\n",
      " [1994.42319581]\n",
      " [2014.9317605 ]\n",
      " [1996.29924391]\n",
      " [2007.04798116]\n",
      " [2018.73263578]\n",
      " [1997.95706784]\n",
      " [2002.07896562]\n",
      " [1997.29901662]\n",
      " [2014.93932133]\n",
      " [2011.22463201]\n",
      " [2006.92595795]\n",
      " [1994.46538386]\n",
      " [1995.67033208]\n",
      " [2003.9806377 ]\n",
      " [2016.82066931]\n",
      " [2016.33418092]\n",
      " [1995.45404098]\n",
      " [1992.61176379]\n",
      " [2009.1523209 ]\n",
      " [2012.05036012]\n",
      " [2011.71384543]\n",
      " [2008.89506903]\n",
      " [2005.095729  ]\n",
      " [1998.28411939]\n",
      " [2020.1147097 ]\n",
      " [2016.18452845]\n",
      " [2005.05759152]\n",
      " [2013.93577758]\n",
      " [1992.70245642]\n",
      " [2011.44791014]\n",
      " [1994.01563773]\n",
      " [2001.58991665]\n",
      " [2015.90860976]\n",
      " [1993.93420429]\n",
      " [2018.78942822]\n",
      " [1994.78612809]\n",
      " [2021.06811672]\n",
      " [1996.82828976]\n",
      " [1999.45733182]\n",
      " [1995.90154473]\n",
      " [2002.68408072]\n",
      " [2001.92193017]\n",
      " [2018.11361298]\n",
      " [2007.08447916]\n",
      " [2010.91459622]\n",
      " [2009.88789666]\n",
      " [2015.56854653]\n",
      " [2007.23905457]\n",
      " [2010.13599327]]\n"
     ]
    }
   ],
   "source": [
    "print(y_predictions)"
   ]
  },
  {
   "cell_type": "code",
   "execution_count": null,
   "id": "131ee8ac",
   "metadata": {},
   "outputs": [],
   "source": []
  },
  {
   "cell_type": "code",
   "execution_count": 105,
   "id": "62da916a",
   "metadata": {},
   "outputs": [],
   "source": [
    "yuh = np.array([54.07,84.04,60.01,87.1]).reshape(1,-1)"
   ]
  },
  {
   "cell_type": "code",
   "execution_count": 106,
   "id": "ad5299ce",
   "metadata": {
    "scrolled": false
   },
   "outputs": [
    {
     "data": {
      "text/plain": [
       "array([[2014.45619849]])"
      ]
     },
     "execution_count": 106,
     "metadata": {},
     "output_type": "execute_result"
    }
   ],
   "source": [
    "model.predict(yuh)"
   ]
  },
  {
   "cell_type": "code",
   "execution_count": null,
   "id": "9beb8c74",
   "metadata": {},
   "outputs": [],
   "source": []
  }
 ],
 "metadata": {
  "kernelspec": {
   "display_name": "Python 3 (ipykernel)",
   "language": "python",
   "name": "python3"
  },
  "language_info": {
   "codemirror_mode": {
    "name": "ipython",
    "version": 3
   },
   "file_extension": ".py",
   "mimetype": "text/x-python",
   "name": "python",
   "nbconvert_exporter": "python",
   "pygments_lexer": "ipython3",
   "version": "3.9.7"
  }
 },
 "nbformat": 4,
 "nbformat_minor": 5
}
